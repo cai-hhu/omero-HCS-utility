{
 "cells": [
  {
   "cell_type": "code",
   "execution_count": null,
   "id": "9f81dd70",
   "metadata": {},
   "outputs": [],
   "source": [
    "import ezomero as ez\n",
    "from omero.model import WellI\n",
    "from getpass import getpass"
   ]
  },
  {
   "cell_type": "code",
   "execution_count": null,
   "id": "020dc144",
   "metadata": {},
   "outputs": [],
   "source": [
    "def combine_plates(conn, source_plates, target_plate, sort_run_names=True, safety_ownership=True, safety_screen=True):\n",
    "    \"\"\"\n",
    "    Move the plate acquisitions of the source plate to the target\n",
    "    plate. When wells are missing from the target plate, new wells\n",
    "    are created in the target plate. The order in which the plates are merged matters, \n",
    "    and is affected by the sort_run_names parameter.\n",
    "    parameters:\n",
    "      - conn: connection object to OMERO\n",
    "      - source_plates. iterable of plate IDs to merge into the target plate\n",
    "      - target_plate: the ID of the plate into which the source_plates are merged\n",
    "      - sort_run_names: process the runs of the given plates in alphabetical order\n",
    "      - safety_ownership: Safety to ensure that the plates processed are owned by the current user\n",
    "      - safety_screen: Safety to ensure that the plates processed are all linked to the same screen\n",
    "    \"\"\"\n",
    "    update_service = conn.getUpdateService()\n",
    "    \n",
    "    if type(source_plates) is int:\n",
    "        source_plates = [source_plates]\n",
    "    \n",
    "    source_plates = list(conn.getObjects(\"Plate\", source_plates))\n",
    "    target_plate_o = conn.getObject(\"Plate\", target_plate)\n",
    "\n",
    "    screen_ids = set()\n",
    "    for plate_o in source_plates + [target_plate_o]:\n",
    "        if safety_ownership:\n",
    "            assert plate_o.getOwner().getId() == conn.getUserId(), f\"'Safety ownership' error: The plate {plate_o.getId()} is not owned by the user\"\n",
    "        if safety_screen:\n",
    "            screen_o = plate_o.getParent()\n",
    "            assert screen_o is not None, f\"'Safety screen' error: the plate {plate.getId()} is not part of a screen\"\n",
    "            screen_ids.add(screen_o.getId())\n",
    "    if safety_screen:\n",
    "        assert len(screen_ids) == 1, f\"Safety 'screen' error: plates belong to different screens, {screen_ids}\"\n",
    "    \n",
    "    target_d = {}\n",
    "    for well in target_plate_o.listChildren():\n",
    "        target_d[well.getWellPos()] = well._obj\n",
    "    # Populating target with missing wells\n",
    "    for plate in source_plates:\n",
    "        for well in plate.listChildren():\n",
    "            if well.getWellPos() not in target_d.keys():\n",
    "                new_well = WellI()\n",
    "                new_well.setColumn(well._obj.getColumn())\n",
    "                new_well.setRow(well._obj.getRow())\n",
    "                new_well.setPlate(target_plate_o._obj)\n",
    "                target_d[well.getWellPos()] = update_service.saveAndReturnObject(new_well)\n",
    "                print(f\"Create {well.getWellPos()}\")\n",
    "\n",
    "    # Sort of all run names from all plates\n",
    "    plate_run_l = []\n",
    "    for source_plate_o in source_plates:\n",
    "        plate_run_l.extend([(source_plate_o, run_o) for run_o in source_plate_o.listPlateAcquisitions()])\n",
    "    if sort_run_names:\n",
    "        plate_run_l = sorted(plate_run_l, key=lambda x: x[1].getName())\n",
    "        \n",
    "    for source_plate_o, run_o in plate_run_l:  \n",
    "        for well in source_plate_o.listChildren():\n",
    "            well_oi = target_d[well.getWellPos()]\n",
    "            \n",
    "            for ws in filter(lambda x: x._obj.plateAcquisition._id._val == run_o.getId(),\n",
    "                             well.listChildren()):\n",
    "                ws._obj.setWell(well_oi)\n",
    "                well_oi.addWellSample(ws._obj)\n",
    "\n",
    "        for key, well_oi in target_d.items():\n",
    "            _ = update_service.saveAndReturnObject(well_oi)\n",
    "\n",
    "        run_o._obj.setPlate(target_plate_o._obj)\n",
    "        _ = update_service.saveAndReturnObject(run_o._obj)\n",
    "        \n",
    "        # Need to reload all target objects here\n",
    "        target_plate_o = conn.getObject(\"Plate\", target_plate)\n",
    "        target_d = {}\n",
    "        for well in target_plate_o.listChildren():\n",
    "            target_d[well.getWellPos()] = well._obj\n"
   ]
  },
  {
   "cell_type": "code",
   "execution_count": null,
   "id": "ef0e341d-84b6-4f89-b0f1-52796b75eb51",
   "metadata": {},
   "outputs": [],
   "source": [
    "GROUP = \"\"\n",
    "USER = \"\"\n",
    "PWD = getpass(\"password:\")\n",
    "HOST = \"\"\n",
    "PORT = 4064"
   ]
  },
  {
   "cell_type": "code",
   "execution_count": null,
   "id": "bb6649c8",
   "metadata": {},
   "outputs": [],
   "source": [
    "with ez.connect(USER, host=HOST, port=PORT, secure=True, group=GROUP) as conn:\n",
    "    combine_plates(conn, source_plates=[2078,2079], target_plate=2076, sort_run_names=True, safety_ownership=True, safety_screen=True)"
   ]
  },
  {
   "cell_type": "code",
   "execution_count": null,
   "id": "022ba3af-1de9-49f6-8bc2-af408d85fb53",
   "metadata": {},
   "outputs": [],
   "source": []
  },
  {
   "cell_type": "code",
   "execution_count": null,
   "id": "fe096920-a5af-417e-9125-0d1551f6504a",
   "metadata": {},
   "outputs": [],
   "source": []
  },
  {
   "cell_type": "code",
   "execution_count": null,
   "id": "c4603e4f-399d-463a-a802-f298c2eb2474",
   "metadata": {},
   "outputs": [],
   "source": []
  },
  {
   "cell_type": "code",
   "execution_count": null,
   "id": "8748d8af-dcc6-4a67-84dc-f359e92ed379",
   "metadata": {},
   "outputs": [],
   "source": []
  },
  {
   "cell_type": "code",
   "execution_count": null,
   "id": "45c8201f-0165-439b-a83e-7905161b9515",
   "metadata": {},
   "outputs": [],
   "source": []
  },
  {
   "cell_type": "code",
   "execution_count": null,
   "id": "b83d0192-334b-4107-90a3-aa22a4aa5cdb",
   "metadata": {},
   "outputs": [],
   "source": []
  },
  {
   "cell_type": "code",
   "execution_count": null,
   "id": "397aaa6f-6f39-4d1f-a32c-0f8e4a94fba7",
   "metadata": {},
   "outputs": [],
   "source": []
  },
  {
   "cell_type": "code",
   "execution_count": null,
   "id": "24e5ccc3-ff4e-4227-903f-4bdcefc73860",
   "metadata": {},
   "outputs": [],
   "source": []
  }
 ],
 "metadata": {
  "kernelspec": {
   "display_name": "omero",
   "language": "python",
   "name": "omero"
  },
  "language_info": {
   "codemirror_mode": {
    "name": "ipython",
    "version": 3
   },
   "file_extension": ".py",
   "mimetype": "text/x-python",
   "name": "python",
   "nbconvert_exporter": "python",
   "pygments_lexer": "ipython3",
   "version": "3.10.8"
  }
 },
 "nbformat": 4,
 "nbformat_minor": 5
}
